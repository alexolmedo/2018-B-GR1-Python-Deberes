{
 "cells": [
  {
   "cell_type": "code",
   "execution_count": 72,
   "metadata": {},
   "outputs": [
    {
     "name": "stdout",
     "output_type": "stream",
     "text": [
      "[22.   38.   26.   35.   35.   54.    2.   27.   14.    4.   58.   20.\n",
      " 39.   14.   55.    2.   31.   35.   34.   15.   28.    8.   38.   19.\n",
      " 40.   66.   28.   42.   21.   18.   14.   40.   27.    3.   19.   18.\n",
      "  7.   21.   49.   29.   65.   21.   28.5   5.   11.   22.   38.   45.\n",
      "  4.   29.   19.   17.   26.   32.   16.   21.   26.   32.   25.    0.83\n",
      " 30.   22.   29.   28.   17.   33.   16.   23.   24.   29.   20.   46.\n",
      " 26.   59.   71.   23.   34.   34.   28.   21.   33.   37.   28.   21.\n",
      " 38.   47.   14.5  22.   20.   17.   21.   70.5  29.   24.    2.   21.\n",
      " 32.5  32.5  54.   12.   24.   45.   33.   20.   47.   29.   25.   23.\n",
      " 19.   37.   16.   24.   22.   24.   19.   18.   19.   27.    9.   36.5\n",
      " 42.   51.   22.   55.5  40.5  51.   16.   30.   44.   40.   26.   17.\n",
      "  1.    9.   45.   28.   61.    4.    1.   21.   56.   18.   50.   30.\n",
      " 36.    9.    1.    4.   45.   40.   36.   32.   19.   19.    3.   44.\n",
      " 58.   42.   24.   28.   34.   45.5  18.    2.   32.   26.   16.   40.\n",
      " 24.   35.   22.   30.   31.   27.   42.   32.   30.   16.   27.   51.\n",
      " 38.   22.   19.   20.5  18.   35.   29.   59.    5.   24.   44.    8.\n",
      " 19.   33.   29.   22.   30.   44.   25.   24.   37.   54.   29.   62.\n",
      " 30.   41.   29.   30.   35.   50.    3.   52.   40.   36.   16.   25.\n",
      " 58.   35.   25.   41.   37.   63.   45.    7.   35.   65.   28.   16.\n",
      " 19.   33.   30.   22.   42.   22.   26.   19.   36.   24.   24.   23.5\n",
      "  2.   50.   19.    0.92 17.   30.   30.   24.   18.   26.   28.   43.\n",
      " 26.   24.   54.   31.   40.   22.   27.   30.   22.   36.   61.   36.\n",
      " 31.   16.   45.5  38.   16.   29.   41.   45.   45.    2.   24.   28.\n",
      " 25.   36.   24.   40.    3.   42.   23.   15.   25.   28.   22.   38.\n",
      " 40.   29.   45.   35.   30.   60.   24.   25.   18.   19.   22.    3.\n",
      " 22.   27.   20.   19.   42.    1.   32.   35.   18.    1.   36.   17.\n",
      " 36.   21.   28.   23.   24.   22.   31.   46.   23.   28.   39.   26.\n",
      " 21.   28.   20.   34.   51.    3.   21.   33.   44.   34.   18.   30.\n",
      " 10.   21.   29.   28.   18.   28.   19.   32.   28.   42.   17.   50.\n",
      " 14.   21.   24.   64.   31.   45.   20.   25.   28.    4.   13.   34.\n",
      "  5.   52.   36.   30.   49.   29.   65.   50.   48.   34.   47.   48.\n",
      " 38.   56.    0.75 38.   33.   23.   22.   34.   29.   22.    2.    9.\n",
      " 50.   63.   25.   35.   58.   30.    9.   21.   55.   71.   21.   54.\n",
      " 25.   24.   17.   21.   37.   16.   18.   33.   28.   26.   29.   36.\n",
      " 54.   24.   47.   34.   36.   32.   30.   22.   44.   40.5  50.   39.\n",
      " 23.    2.   17.   30.    7.   45.   30.   22.   36.    9.   11.   32.\n",
      " 50.   64.   19.   33.    8.   17.   27.   22.   22.   62.   48.   39.\n",
      " 36.   40.   28.   24.   19.   29.   32.   62.   53.   36.   16.   19.\n",
      " 34.   39.   32.   25.   39.   54.   36.   18.   47.   60.   22.   35.\n",
      " 52.   47.   37.   36.   49.   49.   24.   44.   35.   36.   30.   27.\n",
      " 22.   40.   39.   35.   24.   34.   26.    4.   26.   27.   42.   20.\n",
      " 21.   21.   61.   57.   21.   26.   80.   51.   32.    9.   28.   32.\n",
      " 31.   41.   20.   24.    2.    0.75 48.   19.   56.   23.   18.   21.\n",
      " 18.   24.   32.   23.   58.   50.   40.   47.   36.   20.   32.   25.\n",
      " 43.   40.   31.   70.   31.   18.   24.5  18.   43.   36.   27.   20.\n",
      " 14.   60.   25.   14.   19.   18.   15.   31.    4.   25.   60.   52.\n",
      " 44.   49.   42.   18.   35.   18.   25.   26.   39.   45.   42.   22.\n",
      " 24.   48.   29.   52.   19.   38.   27.   33.    6.   17.   34.   50.\n",
      " 27.   20.   30.   25.   25.   29.   11.   23.   23.   28.5  48.   35.\n",
      " 36.   21.   24.   31.   70.   16.   30.   19.   31.    4.    6.   33.\n",
      " 23.   48.    0.67 28.   18.   34.   33.   41.   20.   36.   16.   51.\n",
      " 30.5  32.   24.   48.   57.   54.   18.    5.   43.   13.   17.   29.\n",
      " 25.   25.   18.    8.    1.   46.   16.   25.   39.   49.   31.   30.\n",
      " 30.   34.   31.   11.    0.42 27.   31.   39.   18.   39.   33.   26.\n",
      " 39.   35.    6.   30.5  23.   31.   43.   10.   52.   27.   38.   27.\n",
      "  2.    1.   62.   15.    0.83 23.   18.   39.   21.   32.   20.   16.\n",
      " 30.   34.5  17.   42.   35.   28.    4.   74.    9.   16.   44.   18.\n",
      " 45.   51.   24.   41.   21.   48.   24.   42.   27.   31.    4.   26.\n",
      " 47.   33.   47.   28.   15.   20.   19.   56.   25.   33.   22.   28.\n",
      " 25.   39.   27.   19.   26.   32.  ]\n",
      "(714,)\n"
     ]
    }
   ],
   "source": [
    "import numpy as np\n",
    "import scipy.stats as stats\n",
    "import pylab as plt\n",
    "titanic = np.genfromtxt('titanic.csv', delimiter=',')\n",
    "edades = titanic[:,6]\n",
    "edades_validas = edades[np.invert(np.isnan(edades))]\n",
    "\n",
    "print(edades_validas)\n",
    "print(edades_validas.shape)"
   ]
  },
  {
   "cell_type": "code",
   "execution_count": 82,
   "metadata": {
    "scrolled": true
   },
   "outputs": [
    {
     "data": {
      "image/png": "[encoded data removed]",
      "text/plain": [
       "<Figure size 432x288 with 1 Axes>"
      ]
     },
     "metadata": {
      "needs_background": "light"
     },
     "output_type": "display_data"
    }
   ],
   "source": [
    "fit = stats.norm.pdf(edades_validas, np.mean(edades_validas), np.std(edades_validas))  #this is a fitting indeed\n",
    "\n",
    "plt.plot(edades_validas,fit,'r-', lw=5, alpha=0.5)\n",
    "\n",
    "plt.hist(edades_validas, 40, density=1, facecolor='blue')      #use this to draw histogram of your data\n",
    "plt.xlabel('Edad')\n",
    "plt.ylabel('Probabilidad')\n",
    "plt.title(r'$\\mathrm{Histograma\\ de\\ edades:}\\ \\mu=%.3f,\\ \\sigma=%.3f$' %(np.mean(edades_validas), np.std(edades_validas)))\n",
    "plt.grid(True)\n",
    "plt.show() \n"
   ]
  },
  {
   "cell_type": "code",
   "execution_count": null,
   "metadata": {},
   "outputs": [],
   "source": []
  }
 ],
 "metadata": {
  "kernelspec": {
   "display_name": "Python 3",
   "language": "python",
   "name": "python3"
  },
  "language_info": {
   "codemirror_mode": {
    "name": "ipython",
    "version": 3
   },
   "file_extension": ".py",
   "mimetype": "text/x-python",
   "name": "python",
   "nbconvert_exporter": "python",
   "pygments_lexer": "ipython3",
   "version": "3.7.0"
  }
 },
 "nbformat": 4,
 "nbformat_minor": 1
}
