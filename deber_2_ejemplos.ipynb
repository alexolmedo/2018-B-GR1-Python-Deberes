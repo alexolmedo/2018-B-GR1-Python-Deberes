{
 "cells": [
  {
   "cell_type": "code",
   "execution_count": 4,
   "metadata": {
    "collapsed": true
   },
   "outputs": [],
   "source": [
    "import numpy as np"
   ]
  },
  {
   "cell_type": "markdown",
   "metadata": {},
   "source": [
    "#Se decla un nuevo arreglo:"
   ]
  },
  {
   "cell_type": "code",
   "execution_count": 5,
   "metadata": {},
   "outputs": [
    {
     "name": "stdout",
     "output_type": "stream",
     "text": [
      "[56  4 24 74 14]\n"
     ]
    }
   ],
   "source": [
    "arreglo_numeros = np.array([56,4,24,74,14])\n",
    "print(arreglo_numeros)"
   ]
  },
  {
   "cell_type": "markdown",
   "metadata": {},
   "source": [
    "##Matrices de ceros"
   ]
  },
  {
   "cell_type": "code",
   "execution_count": 6,
   "metadata": {},
   "outputs": [
    {
     "name": "stdout",
     "output_type": "stream",
     "text": [
      "[0. 0. 0. 0.]\n[[0. 0.]\n [0. 0.]]\n[[[0. 0. 0. 0. 0. 0.]\n  [0. 0. 0. 0. 0. 0.]\n  [0. 0. 0. 0. 0. 0.]\n  [0. 0. 0. 0. 0. 0.]]\n\n [[0. 0. 0. 0. 0. 0.]\n  [0. 0. 0. 0. 0. 0.]\n  [0. 0. 0. 0. 0. 0.]\n  [0. 0. 0. 0. 0. 0.]]\n\n [[0. 0. 0. 0. 0. 0.]\n  [0. 0. 0. 0. 0. 0.]\n  [0. 0. 0. 0. 0. 0.]\n  [0. 0. 0. 0. 0. 0.]]]\n"
     ]
    }
   ],
   "source": [
    "print(np.zeros((4)))\n",
    "print(np.zeros((2,2)))\n",
    "print(np.zeros((3,4,6,)))\n"
   ]
  },
  {
   "cell_type": "markdown",
   "metadata": {},
   "source": [
    "##Arreglo de unos"
   ]
  },
  {
   "cell_type": "code",
   "execution_count": 7,
   "metadata": {},
   "outputs": [
    {
     "name": "stdout",
     "output_type": "stream",
     "text": [
      "[1. 1. 1. 1.]\n[[1. 1.]\n [1. 1.]]\n[[[1. 1. 1. 1. 1. 1.]\n  [1. 1. 1. 1. 1. 1.]\n  [1. 1. 1. 1. 1. 1.]\n  [1. 1. 1. 1. 1. 1.]]\n\n [[1. 1. 1. 1. 1. 1.]\n  [1. 1. 1. 1. 1. 1.]\n  [1. 1. 1. 1. 1. 1.]\n  [1. 1. 1. 1. 1. 1.]]\n\n [[1. 1. 1. 1. 1. 1.]\n  [1. 1. 1. 1. 1. 1.]\n  [1. 1. 1. 1. 1. 1.]\n  [1. 1. 1. 1. 1. 1.]]]\n"
     ]
    }
   ],
   "source": [
    "print(np.ones((4)))\n",
    "print(np.ones((2,2)))\n",
    "print(np.ones((3,4,6,)))"
   ]
  },
  {
   "cell_type": "markdown",
   "metadata": {},
   "source": [
    "##Arreglo no inicializado"
   ]
  },
  {
   "cell_type": "code",
   "execution_count": 11,
   "metadata": {},
   "outputs": [
    {
     "name": "stdout",
     "output_type": "stream",
     "text": [
      "[[7.15887374e-312 2.81617418e-322 0.00000000e+000]\n [0.00000000e+000 0.00000000e+000 8.75983079e+164]\n [4.96203833e-090 1.51924666e-047 8.26885590e-072]\n [7.71624321e-043 6.48224659e+170 4.93432906e+257]]\n[0.00000000e+000 0.00000000e+000 0.00000000e+000 0.00000000e+000\n 0.00000000e+000 0.00000000e+000 3.02875119e-152]\n"
     ]
    }
   ],
   "source": [
    "print(np.empty((4,3)))\n",
    "print(np.empty((7)))"
   ]
  },
  {
   "cell_type": "markdown",
   "metadata": {},
   "source": [
    "##Arreglo de ceros"
   ]
  },
  {
   "cell_type": "code",
   "execution_count": 14,
   "metadata": {},
   "outputs": [
    {
     "name": "stdout",
     "output_type": "stream",
     "text": [
      "[[[0. 0. 0.]\n  [0. 0. 0.]\n  [0. 0. 0.]\n  [0. 0. 0.]]\n\n [[0. 0. 0.]\n  [0. 0. 0.]\n  [0. 0. 0.]\n  [0. 0. 0.]]]\n"
     ]
    }
   ],
   "source": [
    "print(np.zeros((2,4,3)))"
   ]
  },
  {
   "cell_type": "markdown",
   "metadata": {},
   "source": [
    "##Diagonal de unos"
   ]
  },
  {
   "cell_type": "code",
   "execution_count": 15,
   "metadata": {},
   "outputs": [
    {
     "name": "stdout",
     "output_type": "stream",
     "text": [
      "[[1. 0. 0. 0. 0. 0.]\n [0. 1. 0. 0. 0. 0.]\n [0. 0. 1. 0. 0. 0.]\n [0. 0. 0. 1. 0. 0.]\n [0. 0. 0. 0. 1. 0.]\n [0. 0. 0. 0. 0. 1.]]\n[[1. 0.]\n [0. 1.]]\n"
     ]
    }
   ],
   "source": [
    "print(np.eye(6))\n",
    "print(np.eye(2))"
   ]
  },
  {
   "cell_type": "markdown",
   "metadata": {},
   "source": [
    "## Generación de valores con intervalos"
   ]
  },
  {
   "cell_type": "code",
   "execution_count": 18,
   "metadata": {},
   "outputs": [
    {
     "name": "stdout",
     "output_type": "stream",
     "text": [
      "[ 0  1  2  3  4  5  6  7  8  9 10 11 12 13]\n[45 46 47 48 49 50 51 52 53 54 55 56 57 58 59]\n[ 0 11 22 33 44 55 66 77 88 99]\n"
     ]
    }
   ],
   "source": [
    "print(np.arange(14))\n",
    "print(np.arange(45,60))\n",
    "print(np.arange(0,100,11))"
   ]
  },
  {
   "cell_type": "markdown",
   "metadata": {},
   "source": [
    "##Obtener las dimensiones de un arreglo"
   ]
  },
  {
   "cell_type": "code",
   "execution_count": 19,
   "metadata": {},
   "outputs": [
    {
     "data": {
      "text/plain": [
       "(2, 3)"
      ]
     },
     "execution_count": 19,
     "metadata": {},
     "output_type": "execute_result"
    }
   ],
   "source": [
    "arreglo_dimension = np.array([(1,2,3),(4,5,6)])\n",
    "arreglo_dimension.shape"
   ]
  },
  {
   "cell_type": "markdown",
   "metadata": {},
   "source": [
    "##Cambiar la forma de un arreglo"
   ]
  },
  {
   "cell_type": "code",
   "execution_count": 21,
   "metadata": {},
   "outputs": [
    {
     "data": {
      "text/plain": [
       "array([[[ 0,  1],\n        [ 2,  3],\n        [ 4,  5]],\n\n       [[ 6,  7],\n        [ 8,  9],\n        [10, 11]],\n\n       [[12, 13],\n        [14, 15],\n        [16, 17]],\n\n       [[18, 19],\n        [20, 21],\n        [22, 23]]])"
      ]
     },
     "execution_count": 21,
     "metadata": {},
     "output_type": "execute_result"
    }
   ],
   "source": [
    "np.arange(24).reshape(4,3,2)"
   ]
  },
  {
   "cell_type": "markdown",
   "metadata": {},
   "source": [
    "##Arreglo de unos, con forma de un arreglo dado"
   ]
  },
  {
   "cell_type": "code",
   "execution_count": 23,
   "metadata": {},
   "outputs": [
    {
     "name": "stdout",
     "output_type": "stream",
     "text": [
      "[[1 1 1 1]\n [1 1 1 1]]\n[1 1 1 1 1]\n"
     ]
    }
   ],
   "source": [
    "print(np.ones_like(np.arange(8).reshape(2,4)))\n",
    "print(np.ones_like(np.arange(5)))"
   ]
  },
  {
   "cell_type": "markdown",
   "metadata": {},
   "source": [
    "##Arreglos de gran tamaño"
   ]
  },
  {
   "cell_type": "code",
   "execution_count": 24,
   "metadata": {},
   "outputs": [
    {
     "name": "stdout",
     "output_type": "stream",
     "text": [
      "[   0    1    2 ... 9997 9998 9999]\n"
     ]
    }
   ],
   "source": [
    "print(np.arange(10000))"
   ]
  },
  {
   "cell_type": "code",
   "execution_count": null,
   "metadata": {},
   "outputs": [],
   "source": []
  }
 ],
 "metadata": {
  "kernelspec": {
   "display_name": "Python 2",
   "language": "python",
   "name": "python2"
  },
  "language_info": {
   "codemirror_mode": {
    "name": "ipython",
    "version": 2
   },
   "file_extension": ".py",
   "mimetype": "text/x-python",
   "name": "python",
   "nbconvert_exporter": "python",
   "pygments_lexer": "ipython2",
   "version": "2.7.6"
  }
 },
 "nbformat": 4,
 "nbformat_minor": 0
}
