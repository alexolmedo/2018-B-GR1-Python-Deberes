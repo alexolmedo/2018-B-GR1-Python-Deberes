{
 "cells": [
  {
   "cell_type": "code",
   "execution_count": 4,
   "metadata": {
    "collapsed": true
   },
   "outputs": [],
   "source": [
    "import numpy as np"
   ]
  },
  {
   "cell_type": "markdown",
   "metadata": {},
   "source": [
    "#Se decla un nuevo arreglo:"
   ]
  },
  {
   "cell_type": "code",
   "execution_count": 5,
   "metadata": {},
   "outputs": [
    {
     "name": "stdout",
     "output_type": "stream",
     "text": [
      "[56  4 24 74 14]\n"
     ]
    }
   ],
   "source": [
    "arreglo_numeros = np.array([56,4,24,74,14])\n",
    "print(arreglo_numeros)"
   ]
  },
  {
   "cell_type": "markdown",
   "metadata": {},
   "source": [
    "##Matrices de ceros"
   ]
  },
  {
   "cell_type": "code",
   "execution_count": 6,
   "metadata": {},
   "outputs": [
    {
     "name": "stdout",
     "output_type": "stream",
     "text": [
      "[0. 0. 0. 0.]\n[[0. 0.]\n [0. 0.]]\n[[[0. 0. 0. 0. 0. 0.]\n  [0. 0. 0. 0. 0. 0.]\n  [0. 0. 0. 0. 0. 0.]\n  [0. 0. 0. 0. 0. 0.]]\n\n [[0. 0. 0. 0. 0. 0.]\n  [0. 0. 0. 0. 0. 0.]\n  [0. 0. 0. 0. 0. 0.]\n  [0. 0. 0. 0. 0. 0.]]\n\n [[0. 0. 0. 0. 0. 0.]\n  [0. 0. 0. 0. 0. 0.]\n  [0. 0. 0. 0. 0. 0.]\n  [0. 0. 0. 0. 0. 0.]]]\n"
     ]
    }
   ],
   "source": [
    "print(np.zeros((4)))\n",
    "print(np.zeros((2,2)))\n",
    "print(np.zeros((3,4,6,)))\n"
   ]
  },
  {
   "cell_type": "markdown",
   "metadata": {},
   "source": [
    "##Arreglo de unos"
   ]
  },
  {
   "cell_type": "code",
   "execution_count": 7,
   "metadata": {},
   "outputs": [
    {
     "name": "stdout",
     "output_type": "stream",
     "text": [
      "[1. 1. 1. 1.]\n[[1. 1.]\n [1. 1.]]\n[[[1. 1. 1. 1. 1. 1.]\n  [1. 1. 1. 1. 1. 1.]\n  [1. 1. 1. 1. 1. 1.]\n  [1. 1. 1. 1. 1. 1.]]\n\n [[1. 1. 1. 1. 1. 1.]\n  [1. 1. 1. 1. 1. 1.]\n  [1. 1. 1. 1. 1. 1.]\n  [1. 1. 1. 1. 1. 1.]]\n\n [[1. 1. 1. 1. 1. 1.]\n  [1. 1. 1. 1. 1. 1.]\n  [1. 1. 1. 1. 1. 1.]\n  [1. 1. 1. 1. 1. 1.]]]\n"
     ]
    }
   ],
   "source": [
    "print(np.ones((4)))\n",
    "print(np.ones((2,2)))\n",
    "print(np.ones((3,4,6,)))"
   ]
  },
  {
   "cell_type": "markdown",
   "metadata": {},
   "source": [
    "##Arreglo no inicializado"
   ]
  },
  {
   "cell_type": "code",
   "execution_count": 11,
   "metadata": {},
   "outputs": [
    {
     "name": "stdout",
     "output_type": "stream",
     "text": [
      "[[7.15887374e-312 2.81617418e-322 0.00000000e+000]\n [0.00000000e+000 0.00000000e+000 8.75983079e+164]\n [4.96203833e-090 1.51924666e-047 8.26885590e-072]\n [7.71624321e-043 6.48224659e+170 4.93432906e+257]]\n[0.00000000e+000 0.00000000e+000 0.00000000e+000 0.00000000e+000\n 0.00000000e+000 0.00000000e+000 3.02875119e-152]\n"
     ]
    }
   ],
   "source": [
    "print(np.empty((4,3)))\n",
    "print(np.empty((7)))"
   ]
  },
  {
   "cell_type": "markdown",
   "metadata": {},
   "source": [
    "##Arreglo de ceros"
   ]
  },
  {
   "cell_type": "code",
   "execution_count": 14,
   "metadata": {},
   "outputs": [
    {
     "name": "stdout",
     "output_type": "stream",
     "text": [
      "[[[0. 0. 0.]\n  [0. 0. 0.]\n  [0. 0. 0.]\n  [0. 0. 0.]]\n\n [[0. 0. 0.]\n  [0. 0. 0.]\n  [0. 0. 0.]\n  [0. 0. 0.]]]\n"
     ]
    }
   ],
   "source": [
    "print(np.zeros((2,4,3)))"
   ]
  },
  {
   "cell_type": "markdown",
   "metadata": {},
   "source": [
    "##Diagonal de unos"
   ]
  },
  {
   "cell_type": "code",
   "execution_count": 15,
   "metadata": {},
   "outputs": [
    {
     "name": "stdout",
     "output_type": "stream",
     "text": [
      "[[1. 0. 0. 0. 0. 0.]\n [0. 1. 0. 0. 0. 0.]\n [0. 0. 1. 0. 0. 0.]\n [0. 0. 0. 1. 0. 0.]\n [0. 0. 0. 0. 1. 0.]\n [0. 0. 0. 0. 0. 1.]]\n[[1. 0.]\n [0. 1.]]\n"
     ]
    }
   ],
   "source": [
    "print(np.eye(6))\n",
    "print(np.eye(2))"
   ]
  },
  {
   "cell_type": "markdown",
   "metadata": {},
   "source": [
    "## Generación de valores con intervalos"
   ]
  },
  {
   "cell_type": "code",
   "execution_count": 18,
   "metadata": {},
   "outputs": [
    {
     "name": "stdout",
     "output_type": "stream",
     "text": [
      "[ 0  1  2  3  4  5  6  7  8  9 10 11 12 13]\n[45 46 47 48 49 50 51 52 53 54 55 56 57 58 59]\n[ 0 11 22 33 44 55 66 77 88 99]\n"
     ]
    }
   ],
   "source": [
    "print(np.arange(14))\n",
    "print(np.arange(45,60))\n",
    "print(np.arange(0,100,11))"
   ]
  },
  {
   "cell_type": "markdown",
   "metadata": {},
   "source": [
    "##Obtener las dimensiones de un arreglo"
   ]
  },
  {
   "cell_type": "code",
   "execution_count": 19,
   "metadata": {},
   "outputs": [
    {
     "data": {
      "text/plain": [
       "(2, 3)"
      ]
     },
     "execution_count": 19,
     "metadata": {},
     "output_type": "execute_result"
    }
   ],
   "source": [
    "arreglo_dimension = np.array([(1,2,3),(4,5,6)])\n",
    "arreglo_dimension.shape"
   ]
  },
  {
   "cell_type": "markdown",
   "metadata": {},
   "source": [
    "##Cambiar la forma de un arreglo"
   ]
  },
  {
   "cell_type": "code",
   "execution_count": 21,
   "metadata": {},
   "outputs": [
    {
     "data": {
      "text/plain": [
       "array([[[ 0,  1],\n        [ 2,  3],\n        [ 4,  5]],\n\n       [[ 6,  7],\n        [ 8,  9],\n        [10, 11]],\n\n       [[12, 13],\n        [14, 15],\n        [16, 17]],\n\n       [[18, 19],\n        [20, 21],\n        [22, 23]]])"
      ]
     },
     "execution_count": 21,
     "metadata": {},
     "output_type": "execute_result"
    }
   ],
   "source": [
    "np.arange(24).reshape(4,3,2)"
   ]
  },
  {
   "cell_type": "markdown",
   "metadata": {},
   "source": [
    "##Arreglo de unos, con forma de un arreglo dado"
   ]
  },
  {
   "cell_type": "code",
   "execution_count": 23,
   "metadata": {},
   "outputs": [
    {
     "name": "stdout",
     "output_type": "stream",
     "text": [
      "[[1 1 1 1]\n [1 1 1 1]]\n[1 1 1 1 1]\n"
     ]
    }
   ],
   "source": [
    "print(np.ones_like(np.arange(8).reshape(2,4)))\n",
    "print(np.ones_like(np.arange(5)))"
   ]
  },
  {
   "cell_type": "markdown",
   "metadata": {},
   "source": [
    "##Arreglos de gran tamaño"
   ]
  },
  {
   "cell_type": "code",
   "execution_count": 24,
   "metadata": {},
   "outputs": [
    {
     "name": "stdout",
     "output_type": "stream",
     "text": [
      "[   0    1    2 ... 9997 9998 9999]\n"
     ]
    }
   ],
   "source": [
    "print(np.arange(10000))"
   ]
  },
  {
   "cell_type": "markdown",
   "metadata": {},
   "source": [
    "##Suma"
   ]
  },
  {
   "cell_type": "code",
   "execution_count": 25,
   "metadata": {},
   "outputs": [
    {
     "name": "stdout",
     "output_type": "stream",
     "text": [
      "[ 20 235  85 176]\n"
     ]
    }
   ],
   "source": [
    "a = np.array([13,1,42,78])\n",
    "b = np.array([7,234,43,98])\n",
    "print(a + b)"
   ]
  },
  {
   "cell_type": "markdown",
   "metadata": {},
   "source": [
    "##Resta"
   ]
  },
  {
   "cell_type": "code",
   "execution_count": 26,
   "metadata": {},
   "outputs": [
    {
     "name": "stdout",
     "output_type": "stream",
     "text": [
      "[   6 -233   -1  -20]\n"
     ]
    }
   ],
   "source": [
    "print(a-b)"
   ]
  },
  {
   "cell_type": "markdown",
   "metadata": {},
   "source": [
    "##Multiplicación"
   ]
  },
  {
   "cell_type": "code",
   "execution_count": 27,
   "metadata": {},
   "outputs": [
    {
     "name": "stdout",
     "output_type": "stream",
     "text": [
      "[  91  234 1806 7644]\n"
     ]
    }
   ],
   "source": [
    "print(a*b)"
   ]
  },
  {
   "cell_type": "markdown",
   "metadata": {},
   "source": [
    "##Division"
   ]
  },
  {
   "cell_type": "code",
   "execution_count": 28,
   "metadata": {},
   "outputs": [
    {
     "name": "stdout",
     "output_type": "stream",
     "text": [
      "[1.85714286 0.0042735  0.97674419 0.79591837]\n"
     ]
    }
   ],
   "source": [
    "print(a/b)"
   ]
  },
  {
   "cell_type": "markdown",
   "metadata": {},
   "source": [
    "##Operaciones sobre todos los elementos"
   ]
  },
  {
   "cell_type": "code",
   "execution_count": 33,
   "metadata": {},
   "outputs": [
    {
     "name": "stdout",
     "output_type": "stream",
     "text": [
      "[0.  0.5 1.  1.5 2.  2.5 3.  3.5 4.  4.5 5.  5.5 6.  6.5 7. ]\n"
     ]
    }
   ],
   "source": [
    "arregloUno = np.arange(15)\n",
    "print(arregloUno / 2 )"
   ]
  },
  {
   "cell_type": "markdown",
   "metadata": {},
   "source": [
    "##Evaluación de expresiones"
   ]
  },
  {
   "cell_type": "code",
   "execution_count": 34,
   "metadata": {},
   "outputs": [
    {
     "name": "stdout",
     "output_type": "stream",
     "text": [
      "[ True  True  True  True False False False False False False False False\n False False False False False False]\n"
     ]
    }
   ],
   "source": [
    "print(arreglo_diez_ocho < 4)"
   ]
  },
  {
   "cell_type": "markdown",
   "metadata": {},
   "source": [
    "##Multiplicación dot"
   ]
  },
  {
   "cell_type": "code",
   "execution_count": 37,
   "metadata": {},
   "outputs": [
    {
     "name": "stdout",
     "output_type": "stream",
     "text": [
      "[[ 42  45  48]\n [150 162 174]\n [258 279 300]]\n"
     ]
    }
   ],
   "source": [
    "A = np.arange(9).reshape(3,3)\n",
    "B = np.arange(9,18).reshape(3,3)\n",
    "A.dot(B)\n",
    "oli = np.arange(20,29).reshape(3,3)\n",
    "np.dot(A,B,oli)\n",
    "print(oli)"
   ]
  },
  {
   "cell_type": "markdown",
   "metadata": {},
   "source": [
    "##Operaciones conocidas en los arreglos"
   ]
  },
  {
   "cell_type": "code",
   "execution_count": 38,
   "metadata": {},
   "outputs": [
    {
     "name": "stdout",
     "output_type": "stream",
     "text": [
      "[ 0  1  2  3  4  5  6  7  8  9 10 11 12 13 14]\n105\n0\n14\n"
     ]
    }
   ],
   "source": [
    "print(arregloUno)\n",
    "print(arregloUno.sum())\n",
    "print(arregloUno.min())\n",
    "print(arregloUno.max())"
   ]
  },
  {
   "cell_type": "markdown",
   "metadata": {},
   "source": [
    "##Sumas sobre los elementos de un arreglo"
   ]
  },
  {
   "cell_type": "code",
   "execution_count": 39,
   "metadata": {},
   "outputs": [
    {
     "name": "stdout",
     "output_type": "stream",
     "text": [
      "[[ 0  1  2]\n [ 3  4  5]\n [ 6  7  8]\n [ 9 10 11]\n [12 13 14]]\n[30 35 40]\n[ 3 12 21 30 39]\n"
     ]
    }
   ],
   "source": [
    "arregloDos = np.arange(15).reshape(5,3)\n",
    "print(arregloDos)\n",
    "print(arregloDos.sum(axis=0)) # Eje X\n",
    "print(arregloDos.sum(axis=1)) # Eje Y"
   ]
  },
  {
   "cell_type": "markdown",
   "metadata": {},
   "source": [
    "#Funciones Universales"
   ]
  },
  {
   "cell_type": "markdown",
   "metadata": {},
   "source": [
    "##Radianes"
   ]
  },
  {
   "cell_type": "code",
   "execution_count": 42,
   "metadata": {},
   "outputs": [
    {
     "name": "stdout",
     "output_type": "stream",
     "text": [
      "[ 0 30 45 60 90]\n[0.         0.52359878 0.78539816 1.04719755 1.57079633]\n3.141592653589793\n"
     ]
    }
   ],
   "source": [
    "angulos = np.array([0, 30, 45, 60, 90])\n",
    "print(angulos)\n",
    "angulos_radianes = angulos * np.pi / 180\n",
    "print(angulos_radianes)\n",
    "print(np.pi)"
   ]
  },
  {
   "cell_type": "markdown",
   "metadata": {},
   "source": [
    "##Seno"
   ]
  },
  {
   "cell_type": "code",
   "execution_count": 43,
   "metadata": {},
   "outputs": [
    {
     "name": "stdout",
     "output_type": "stream",
     "text": [
      "[ 0.         -0.98803162  0.85090352 -0.30481062  0.89399666]\n"
     ]
    }
   ],
   "source": [
    "print(np.sin(angulos))"
   ]
  },
  {
   "cell_type": "markdown",
   "metadata": {},
   "source": [
    "##Coseno"
   ]
  },
  {
   "cell_type": "code",
   "execution_count": 44,
   "metadata": {},
   "outputs": [
    {
     "name": "stdout",
     "output_type": "stream",
     "text": [
      "[ 1.          0.15425145  0.52532199 -0.95241298 -0.44807362]\n"
     ]
    }
   ],
   "source": [
    "print(np.cos(angulos))"
   ]
  },
  {
   "cell_type": "markdown",
   "metadata": {},
   "source": [
    "##Tangente"
   ]
  },
  {
   "cell_type": "code",
   "execution_count": 45,
   "metadata": {},
   "outputs": [
    {
     "name": "stdout",
     "output_type": "stream",
     "text": [
      "[ 0.         -6.4053312   1.61977519  0.32004039 -1.99520041]\n"
     ]
    }
   ],
   "source": [
    "print(np.tan(angulos))"
   ]
  },
  {
   "cell_type": "markdown",
   "metadata": {},
   "source": [
    "##Media"
   ]
  },
  {
   "cell_type": "code",
   "execution_count": 46,
   "metadata": {},
   "outputs": [
    {
     "name": "stdout",
     "output_type": "stream",
     "text": [
      "[5.60445801 4.90287274 1.50053863 3.98967744 7.28855728 9.74510088\n 6.32995602 3.97040868 6.85938242 6.21473063 0.94069084 5.03681165\n 4.14076879 5.17086982 8.12015474 9.69463023 1.80020043 2.31478739\n 7.6667181  0.5840241 ]\n5.093766941887894\n"
     ]
    }
   ],
   "source": [
    "arreglo = np.random.rand(20)*10\n",
    "print(arreglo)\n",
    "print(np.mean(arreglo))"
   ]
  },
  {
   "cell_type": "markdown",
   "metadata": {},
   "source": [
    "##Mediana"
   ]
  },
  {
   "cell_type": "code",
   "execution_count": 47,
   "metadata": {},
   "outputs": [
    {
     "name": "stdout",
     "output_type": "stream",
     "text": [
      "[5.60445801 4.90287274 1.50053863 3.98967744 7.28855728 9.74510088\n 6.32995602 3.97040868 6.85938242 6.21473063 0.94069084 5.03681165\n 4.14076879 5.17086982 8.12015474 9.69463023 1.80020043 2.31478739\n 7.6667181  0.5840241 ]\n5.103840734420642\n"
     ]
    }
   ],
   "source": [
    "print(arreglo)\n",
    "print(np.median(arreglo))"
   ]
  },
  {
   "cell_type": "markdown",
   "metadata": {},
   "source": [
    "##Desviación Estándar"
   ]
  },
  {
   "cell_type": "code",
   "execution_count": 48,
   "metadata": {},
   "outputs": [
    {
     "name": "stdout",
     "output_type": "stream",
     "text": [
      "[5.60445801 4.90287274 1.50053863 3.98967744 7.28855728 9.74510088\n 6.32995602 3.97040868 6.85938242 6.21473063 0.94069084 5.03681165\n 4.14076879 5.17086982 8.12015474 9.69463023 1.80020043 2.31478739\n 7.6667181  0.5840241 ]\n2.665184641728105\n"
     ]
    }
   ],
   "source": [
    "print(arreglo)\n",
    "print(np.std(arreglo))"
   ]
  },
  {
   "cell_type": "markdown",
   "metadata": {},
   "source": [
    "##Varianza"
   ]
  },
  {
   "cell_type": "code",
   "execution_count": 49,
   "metadata": {},
   "outputs": [
    {
     "name": "stdout",
     "output_type": "stream",
     "text": [
      "[5.60445801 4.90287274 1.50053863 3.98967744 7.28855728 9.74510088\n 6.32995602 3.97040868 6.85938242 6.21473063 0.94069084 5.03681165\n 4.14076879 5.17086982 8.12015474 9.69463023 1.80020043 2.31478739\n 7.6667181  0.5840241 ]\n7.103209174503368\n"
     ]
    }
   ],
   "source": [
    "print(arreglo)\n",
    "print(np.var(arreglo))"
   ]
  },
  {
   "cell_type": "markdown",
   "metadata": {},
   "source": [
    "##Slice and dice"
   ]
  },
  {
   "cell_type": "code",
   "execution_count": 50,
   "metadata": {},
   "outputs": [
    {
     "name": "stdout",
     "output_type": "stream",
     "text": [
      "[  0   1   4   9  16  25  36  49  64  81 100 121 144 169 196 225 256 289\n 324 361]\n0\n[0 1 4]\n289\n[  4   9  16  25  36  49  64  81 100 121 144 169 196 225 256]\n[144 169 196 225 256 289 324]\n[  1   4   9  16  25  36  49  64  81 100 121 144 169 196 225 256 289 324\n 361]\n[ 0  1  4  9 16]\n[ 4  9 16 25 36 49]\n[ 4 36]\n[ 0  4 16 36 64]\n[361 324 289 256 225 196 169 144 121 100  81  64  49  36  25  16   9   4\n   1   0]\n"
     ]
    }
   ],
   "source": [
    "arreglo_slice = np.arange(20) ** 2\n",
    "print(arreglo_slice)\n",
    "print(arreglo_slice[0])\n",
    "print(arreglo_slice[0:3])\n",
    "print(arreglo_slice[-3])\n",
    "print(arreglo_slice[2:-3])\n",
    "print(arreglo_slice[-8:-1])\n",
    "print(arreglo_slice[1:])\n",
    "print(arreglo_slice[:5])\n",
    "print(arreglo_slice[2:8])\n",
    "print(arreglo_slice[2:8:4])\n",
    "print(arreglo_slice[:10:2])\n",
    "print(arreglo_slice[::-1])"
   ]
  },
  {
   "cell_type": "code",
   "execution_count": null,
   "metadata": {},
   "outputs": [],
   "source": []
  }
 ],
 "metadata": {
  "kernelspec": {
   "display_name": "Python 2",
   "language": "python",
   "name": "python2"
  },
  "language_info": {
   "codemirror_mode": {
    "name": "ipython",
    "version": 2
   },
   "file_extension": ".py",
   "mimetype": "text/x-python",
   "name": "python",
   "nbconvert_exporter": "python",
   "pygments_lexer": "ipython2",
   "version": "2.7.6"
  }
 },
 "nbformat": 4,
 "nbformat_minor": 0
}
