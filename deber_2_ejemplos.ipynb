{
 "cells": [
  {
   "cell_type": "code",
   "execution_count": 1,
   "metadata": {
    "collapsed": true
   },
   "outputs": [],
   "source": [
    "import numpy as np"
   ]
  },
  {
   "cell_type": "markdown",
   "metadata": {},
   "source": [
    "#Se decla un nuevo arreglo:"
   ]
  },
  {
   "cell_type": "code",
   "execution_count": 2,
   "metadata": {},
   "outputs": [
    {
     "name": "stdout",
     "output_type": "stream",
     "text": [
      "[56  4 24 74 14]\n"
     ]
    }
   ],
   "source": [
    "arreglo_numeros = np.array([56,4,24,74,14])\n",
    "print(arreglo_numeros)"
   ]
  },
  {
   "cell_type": "markdown",
   "metadata": {},
   "source": [
    "##Matrices de ceros"
   ]
  },
  {
   "cell_type": "code",
   "execution_count": 10,
   "metadata": {},
   "outputs": [
    {
     "name": "stdout",
     "output_type": "stream",
     "text": [
      "[0. 0. 0. 0.]\n[[0. 0.]\n [0. 0.]]\n[[[0. 0. 0. 0. 0. 0.]\n  [0. 0. 0. 0. 0. 0.]\n  [0. 0. 0. 0. 0. 0.]\n  [0. 0. 0. 0. 0. 0.]]\n\n [[0. 0. 0. 0. 0. 0.]\n  [0. 0. 0. 0. 0. 0.]\n  [0. 0. 0. 0. 0. 0.]\n  [0. 0. 0. 0. 0. 0.]]\n\n [[0. 0. 0. 0. 0. 0.]\n  [0. 0. 0. 0. 0. 0.]\n  [0. 0. 0. 0. 0. 0.]\n  [0. 0. 0. 0. 0. 0.]]]\n"
     ]
    }
   ],
   "source": [
    "print(np.zeros((4)))\n",
    "print(np.zeros((2,2)))\n",
    "print(np.zeros((3,4,6,)))\n"
   ]
  },
  {
   "cell_type": "markdown",
   "metadata": {},
   "source": [
    "##Arreglo de unos"
   ]
  },
  {
   "cell_type": "code",
   "execution_count": 11,
   "metadata": {},
   "outputs": [
    {
     "name": "stdout",
     "output_type": "stream",
     "text": [
      "[1. 1. 1. 1.]\n[[1. 1.]\n [1. 1.]]\n[[[1. 1. 1. 1. 1. 1.]\n  [1. 1. 1. 1. 1. 1.]\n  [1. 1. 1. 1. 1. 1.]\n  [1. 1. 1. 1. 1. 1.]]\n\n [[1. 1. 1. 1. 1. 1.]\n  [1. 1. 1. 1. 1. 1.]\n  [1. 1. 1. 1. 1. 1.]\n  [1. 1. 1. 1. 1. 1.]]\n\n [[1. 1. 1. 1. 1. 1.]\n  [1. 1. 1. 1. 1. 1.]\n  [1. 1. 1. 1. 1. 1.]\n  [1. 1. 1. 1. 1. 1.]]]\n"
     ]
    }
   ],
   "source": [
    "print(np.ones((4)))\n",
    "print(np.ones((2,2)))\n",
    "print(np.ones((3,4,6,)))"
   ]
  },
  {
   "cell_type": "code",
   "execution_count": null,
   "metadata": {},
   "outputs": [],
   "source": []
  }
 ],
 "metadata": {
  "kernelspec": {
   "display_name": "Python 2",
   "language": "python",
   "name": "python2"
  },
  "language_info": {
   "codemirror_mode": {
    "name": "ipython",
    "version": 2
   },
   "file_extension": ".py",
   "mimetype": "text/x-python",
   "name": "python",
   "nbconvert_exporter": "python",
   "pygments_lexer": "ipython2",
   "version": "2.7.6"
  }
 },
 "nbformat": 4,
 "nbformat_minor": 0
}
